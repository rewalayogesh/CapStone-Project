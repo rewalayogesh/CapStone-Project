{
 "cells": [
  {
   "cell_type": "code",
   "execution_count": 1,
   "id": "80fd8f48",
   "metadata": {},
   "outputs": [],
   "source": [
    "from pyspark.sql import SparkSession"
   ]
  },
  {
   "cell_type": "code",
   "execution_count": 2,
   "id": "2e0937d6",
   "metadata": {},
   "outputs": [
    {
     "name": "stdout",
     "output_type": "stream",
     "text": [
      "Requirement already satisfied: pyspark in c:\\users\\yoges\\appdata\\local\\programs\\python\\python310\\lib\\site-packages (3.2.3)\n",
      "Requirement already satisfied: py4j==0.10.9.5 in c:\\users\\yoges\\appdata\\local\\programs\\python\\python310\\lib\\site-packages (from pyspark) (0.10.9.5)\n",
      "Note: you may need to restart the kernel to use updated packages.\n"
     ]
    }
   ],
   "source": [
    "pip install pyspark"
   ]
  },
  {
   "cell_type": "code",
   "execution_count": 3,
   "id": "b7dbf9d8",
   "metadata": {},
   "outputs": [],
   "source": [
    "# Create SparkSession \n",
    "spark = SparkSession.builder \\\n",
    "      .master(\"local[1]\") \\\n",
    "      .appName(\"sumit.singh\") \\\n",
    "      .getOrCreate() "
   ]
  },
  {
   "cell_type": "code",
   "execution_count": 4,
   "id": "027734cc",
   "metadata": {},
   "outputs": [],
   "source": [
    "# Create RDD from parallelize    \n",
    "dataList = [(\"Java\", 20000), (\"Python\", 100000), (\"Scala\", 3000)]\n",
    "rdd=spark.sparkContext.parallelize(dataList)"
   ]
  },
  {
   "cell_type": "code",
   "execution_count": 5,
   "id": "cd5f4b89",
   "metadata": {},
   "outputs": [
    {
     "data": {
      "text/plain": [
       "pyspark.rdd.RDD"
      ]
     },
     "execution_count": 5,
     "metadata": {},
     "output_type": "execute_result"
    }
   ],
   "source": [
    "type(rdd)"
   ]
  },
  {
   "cell_type": "code",
   "execution_count": 6,
   "id": "36bd5f9f",
   "metadata": {},
   "outputs": [],
   "source": [
    "# Create RDD from external Data source\n",
    "rdd6 = spark.sparkContext.textFile(\"/Users/yoges/Downloads/Capstone market analysis.csv\")\n"
   ]
  },
  {
   "cell_type": "code",
   "execution_count": 8,
   "id": "cbf7d475",
   "metadata": {},
   "outputs": [
    {
     "name": "stdout",
     "output_type": "stream",
     "text": [
      "root\n",
      " |-- \"age;\"\"job\"\";\"\"marital\"\";\"\"education\"\";\"\"default\"\";\"\"balance\"\";\"\"housing\"\";\"\"loan\"\";\"\"contact\"\";\"\"day\"\";\"\"month\"\";\"\"duration\"\";\"\"campaign\"\";\"\"pdays\"\";\"\"previous\"\";\"\"poutcome\"\";\"\"y\"\"\": string (nullable = true)\n",
      "\n"
     ]
    }
   ],
   "source": [
    "df = spark.read.csv(\"/Users/yoges/Downloads/Capstone market analysis.csv\",header = True)\n",
    "df.printSchema()"
   ]
  },
  {
   "cell_type": "code",
   "execution_count": 26,
   "id": "d53070a3",
   "metadata": {},
   "outputs": [
    {
     "name": "stdout",
     "output_type": "stream",
     "text": [
      "root\n",
      " |-- \"age;\"\"job\"\";\"\"marital\"\";\"\"education\"\";\"\"default\"\";\"\"balance\"\";\"\"housing\"\";\"\"loan\"\";\"\"contact\"\";\"\"day\"\";\"\"month\"\";\"\"duration\"\";\"\"campaign\"\";\"\"pdays\"\";\"\"previous\"\";\"\"poutcome\"\";\"\"y\"\"\": string (nullable = true)\n",
      "\n",
      "+--------------------------------------------------------------------------------------------------------------------------------------------------------------------------------------+\n",
      "|\"age;\"\"job\"\";\"\"marital\"\";\"\"education\"\";\"\"default\"\";\"\"balance\"\";\"\"housing\"\";\"\"loan\"\";\"\"contact\"\";\"\"day\"\";\"\"month\"\";\"\"duration\"\";\"\"campaign\"\";\"\"pdays\"\";\"\"previous\"\";\"\"poutcome\"\";\"\"y\"\"\"|\n",
      "+--------------------------------------------------------------------------------------------------------------------------------------------------------------------------------------+\n",
      "|                                                                                                                                                                  \"58;\"\"management\"...|\n",
      "|                                                                                                                                                                  \"44;\"\"technician\"...|\n",
      "|                                                                                                                                                                  \"33;\"\"entrepreneu...|\n",
      "|                                                                                                                                                                  \"47;\"\"blue-collar...|\n",
      "|                                                                                                                                                                  \"33;\"\"unknown\"\";\"...|\n",
      "|                                                                                                                                                                  \"35;\"\"management\"...|\n",
      "|                                                                                                                                                                  \"28;\"\"management\"...|\n",
      "|                                                                                                                                                                  \"42;\"\"entrepreneu...|\n",
      "|                                                                                                                                                                  \"58;\"\"retired\"\";\"...|\n",
      "|                                                                                                                                                                  \"43;\"\"technician\"...|\n",
      "|                                                                                                                                                                  \"41;\"\"admin.\"\";\"\"...|\n",
      "|                                                                                                                                                                  \"29;\"\"admin.\"\";\"\"...|\n",
      "|                                                                                                                                                                  \"53;\"\"technician\"...|\n",
      "|                                                                                                                                                                  \"58;\"\"technician\"...|\n",
      "|                                                                                                                                                                  \"57;\"\"services\"\";...|\n",
      "|                                                                                                                                                                  \"51;\"\"retired\"\";\"...|\n",
      "|                                                                                                                                                                  \"45;\"\"admin.\"\";\"\"...|\n",
      "|                                                                                                                                                                  \"57;\"\"blue-collar...|\n",
      "|                                                                                                                                                                  \"60;\"\"retired\"\";\"...|\n",
      "|                                                                                                                                                                  \"33;\"\"services\"\";...|\n",
      "+--------------------------------------------------------------------------------------------------------------------------------------------------------------------------------------+\n",
      "only showing top 20 rows\n",
      "\n"
     ]
    }
   ],
   "source": [
    "df.createOrReplaceTempView(\"PERSON_DATA\")\n",
    "df2 = spark.sql(\"SELECT * from PERSON_DATA\")\n",
    "df2.printSchema()\n",
    "df2.show()"
   ]
  },
  {
   "cell_type": "code",
   "execution_count": 27,
   "id": "d6c98767",
   "metadata": {},
   "outputs": [
    {
     "name": "stdout",
     "output_type": "stream",
     "text": [
      "root\n",
      " |-- \"age;\"\"job\"\";\"\"marital\"\";\"\"education\"\";\"\"default\"\";\"\"balance\"\";\"\"housing\"\";\"\"loan\"\";\"\"contact\"\";\"\"day\"\";\"\"month\"\";\"\"duration\"\";\"\"campaign\"\";\"\"pdays\"\";\"\"previous\"\";\"\"poutcome\"\";\"\"y\"\"\": string (nullable = true)\n",
      "\n"
     ]
    }
   ],
   "source": [
    "\n",
    "df = df.withColumnRenamed(\"Sex\",\"Gender\") \n",
    "df.printSchema()\n"
   ]
  },
  {
   "cell_type": "code",
   "execution_count": 10,
   "id": "476fee98",
   "metadata": {},
   "outputs": [
    {
     "data": {
      "text/plain": [
       "Row(\"age;\"\"job\"\";\"\"marital\"\";\"\"education\"\";\"\"default\"\";\"\"balance\"\";\"\"housing\"\";\"\"loan\"\";\"\"contact\"\";\"\"day\"\";\"\"month\"\";\"\"duration\"\";\"\"campaign\"\";\"\"pdays\"\";\"\"previous\"\";\"\"poutcome\"\";\"\"y\"\"\"='\"58;\"\"management\"\";\"\"married\"\";\"\"tertiary\"\";\"\"no\"\";2143;\"\"yes\"\";\"\"no\"\";\"\"unknown\"\";5;\"\"may\"\";261;1;-1;0;\"\"unknown\"\";\"\"no\"\"\"')"
      ]
     },
     "execution_count": 10,
     "metadata": {},
     "output_type": "execute_result"
    }
   ],
   "source": [
    "df.head()"
   ]
  },
  {
   "cell_type": "code",
   "execution_count": 11,
   "id": "75055fa7",
   "metadata": {},
   "outputs": [
    {
     "name": "stdout",
     "output_type": "stream",
     "text": [
      "+--------------------------------------------------------------------------------------------------------------------------------------------------------------------------------------+\n",
      "|\"age;\"\"job\"\";\"\"marital\"\";\"\"education\"\";\"\"default\"\";\"\"balance\"\";\"\"housing\"\";\"\"loan\"\";\"\"contact\"\";\"\"day\"\";\"\"month\"\";\"\"duration\"\";\"\"campaign\"\";\"\"pdays\"\";\"\"previous\"\";\"\"poutcome\"\";\"\"y\"\"\"|\n",
      "+--------------------------------------------------------------------------------------------------------------------------------------------------------------------------------------+\n",
      "|                                                                                                                                                                  \"58;\"\"management\"...|\n",
      "|                                                                                                                                                                  \"44;\"\"technician\"...|\n",
      "|                                                                                                                                                                  \"33;\"\"entrepreneu...|\n",
      "|                                                                                                                                                                  \"47;\"\"blue-collar...|\n",
      "|                                                                                                                                                                  \"33;\"\"unknown\"\";\"...|\n",
      "|                                                                                                                                                                  \"35;\"\"management\"...|\n",
      "|                                                                                                                                                                  \"28;\"\"management\"...|\n",
      "|                                                                                                                                                                  \"42;\"\"entrepreneu...|\n",
      "|                                                                                                                                                                  \"58;\"\"retired\"\";\"...|\n",
      "|                                                                                                                                                                  \"43;\"\"technician\"...|\n",
      "|                                                                                                                                                                  \"41;\"\"admin.\"\";\"\"...|\n",
      "|                                                                                                                                                                  \"29;\"\"admin.\"\";\"\"...|\n",
      "|                                                                                                                                                                  \"53;\"\"technician\"...|\n",
      "|                                                                                                                                                                  \"58;\"\"technician\"...|\n",
      "|                                                                                                                                                                  \"57;\"\"services\"\";...|\n",
      "|                                                                                                                                                                  \"51;\"\"retired\"\";\"...|\n",
      "|                                                                                                                                                                  \"45;\"\"admin.\"\";\"\"...|\n",
      "|                                                                                                                                                                  \"57;\"\"blue-collar...|\n",
      "|                                                                                                                                                                  \"60;\"\"retired\"\";\"...|\n",
      "|                                                                                                                                                                  \"33;\"\"services\"\";...|\n",
      "+--------------------------------------------------------------------------------------------------------------------------------------------------------------------------------------+\n",
      "only showing top 20 rows\n",
      "\n"
     ]
    }
   ],
   "source": [
    "df.show()\n"
   ]
  },
  {
   "cell_type": "code",
   "execution_count": 13,
   "id": "d1ff35e0",
   "metadata": {},
   "outputs": [
    {
     "name": "stdout",
     "output_type": "stream",
     "text": [
      "+--------------------------------------------------------------------------------------------------------------------------------------------------------------------------------------+\n",
      "|\"age;\"\"job\"\";\"\"marital\"\";\"\"education\"\";\"\"default\"\";\"\"balance\"\";\"\"housing\"\";\"\"loan\"\";\"\"contact\"\";\"\"day\"\";\"\"month\"\";\"\"duration\"\";\"\"campaign\"\";\"\"pdays\"\";\"\"previous\"\";\"\"poutcome\"\";\"\"y\"\"\"|\n",
      "+--------------------------------------------------------------------------------------------------------------------------------------------------------------------------------------+\n",
      "|                                                                                                                                                                  \"58;\"\"management\"...|\n",
      "|                                                                                                                                                                  \"44;\"\"technician\"...|\n",
      "|                                                                                                                                                                  \"33;\"\"entrepreneu...|\n",
      "|                                                                                                                                                                  \"47;\"\"blue-collar...|\n",
      "|                                                                                                                                                                  \"33;\"\"unknown\"\";\"...|\n",
      "|                                                                                                                                                                  \"35;\"\"management\"...|\n",
      "|                                                                                                                                                                  \"28;\"\"management\"...|\n",
      "|                                                                                                                                                                  \"42;\"\"entrepreneu...|\n",
      "|                                                                                                                                                                  \"58;\"\"retired\"\";\"...|\n",
      "|                                                                                                                                                                  \"43;\"\"technician\"...|\n",
      "|                                                                                                                                                                  \"41;\"\"admin.\"\";\"\"...|\n",
      "|                                                                                                                                                                  \"29;\"\"admin.\"\";\"\"...|\n",
      "|                                                                                                                                                                  \"53;\"\"technician\"...|\n",
      "|                                                                                                                                                                  \"58;\"\"technician\"...|\n",
      "|                                                                                                                                                                  \"57;\"\"services\"\";...|\n",
      "|                                                                                                                                                                  \"51;\"\"retired\"\";\"...|\n",
      "|                                                                                                                                                                  \"45;\"\"admin.\"\";\"\"...|\n",
      "|                                                                                                                                                                  \"57;\"\"blue-collar...|\n",
      "|                                                                                                                                                                  \"60;\"\"retired\"\";\"...|\n",
      "|                                                                                                                                                                  \"33;\"\"services\"\";...|\n",
      "+--------------------------------------------------------------------------------------------------------------------------------------------------------------------------------------+\n",
      "only showing top 20 rows\n",
      "\n"
     ]
    }
   ],
   "source": [
    "df_capstone = spark.read.csv(\"/Users/yoges/Downloads/Capstone market analysis.csv\",header = True)\n",
    "df_capstone.show()\n",
    "\n"
   ]
  },
  {
   "cell_type": "code",
   "execution_count": 19,
   "id": "5c917bbb",
   "metadata": {},
   "outputs": [
    {
     "name": "stdout",
     "output_type": "stream",
     "text": [
      "root\n",
      " |-- \"age;\"\"job\"\";\"\"marital\"\";\"\"education\"\";\"\"default\"\";\"\"balance\"\";\"\"housing\"\";\"\"loan\"\";\"\"contact\"\";\"\"day\"\";\"\"month\"\";\"\"duration\"\";\"\"campaign\"\";\"\"pdays\"\";\"\"previous\"\";\"\"poutcome\"\";\"\"y\"\"\": string (nullable = true)\n",
      "\n",
      "+--------------------------------------------------------------------------------------------------------------------------------------------------------------------------------------+\n",
      "|\"age;\"\"job\"\";\"\"marital\"\";\"\"education\"\";\"\"default\"\";\"\"balance\"\";\"\"housing\"\";\"\"loan\"\";\"\"contact\"\";\"\"day\"\";\"\"month\"\";\"\"duration\"\";\"\"campaign\"\";\"\"pdays\"\";\"\"previous\"\";\"\"poutcome\"\";\"\"y\"\"\"|\n",
      "+--------------------------------------------------------------------------------------------------------------------------------------------------------------------------------------+\n",
      "|                                                                                                                                                                  \"58;\"\"management\"...|\n",
      "|                                                                                                                                                                  \"44;\"\"technician\"...|\n",
      "|                                                                                                                                                                  \"33;\"\"entrepreneu...|\n",
      "|                                                                                                                                                                  \"47;\"\"blue-collar...|\n",
      "|                                                                                                                                                                  \"33;\"\"unknown\"\";\"...|\n",
      "|                                                                                                                                                                  \"35;\"\"management\"...|\n",
      "|                                                                                                                                                                  \"28;\"\"management\"...|\n",
      "|                                                                                                                                                                  \"42;\"\"entrepreneu...|\n",
      "|                                                                                                                                                                  \"58;\"\"retired\"\";\"...|\n",
      "|                                                                                                                                                                  \"43;\"\"technician\"...|\n",
      "|                                                                                                                                                                  \"41;\"\"admin.\"\";\"\"...|\n",
      "|                                                                                                                                                                  \"29;\"\"admin.\"\";\"\"...|\n",
      "|                                                                                                                                                                  \"53;\"\"technician\"...|\n",
      "|                                                                                                                                                                  \"58;\"\"technician\"...|\n",
      "|                                                                                                                                                                  \"57;\"\"services\"\";...|\n",
      "|                                                                                                                                                                  \"51;\"\"retired\"\";\"...|\n",
      "|                                                                                                                                                                  \"45;\"\"admin.\"\";\"\"...|\n",
      "|                                                                                                                                                                  \"57;\"\"blue-collar...|\n",
      "|                                                                                                                                                                  \"60;\"\"retired\"\";\"...|\n",
      "|                                                                                                                                                                  \"33;\"\"services\"\";...|\n",
      "+--------------------------------------------------------------------------------------------------------------------------------------------------------------------------------------+\n",
      "only showing top 20 rows\n",
      "\n"
     ]
    }
   ],
   "source": [
    "df_capstone.createOrReplaceTempView(\"df_capst\")\n",
    "\n",
    "\n",
    "df2 = spark.sql(\"select * from df_capst\")\n",
    "\n",
    "df2.printSchema()\n",
    "\n",
    "df2.show()"
   ]
  },
  {
   "cell_type": "code",
   "execution_count": 20,
   "id": "e8928799",
   "metadata": {},
   "outputs": [
    {
     "name": "stdout",
     "output_type": "stream",
     "text": [
      "+--------+\n",
      "|count(1)|\n",
      "+--------+\n",
      "|   45211|\n",
      "+--------+\n",
      "\n"
     ]
    }
   ],
   "source": [
    "df3 = spark.sql(\"select count(*) from df_capst\")\n",
    "\n",
    "df3.show()"
   ]
  },
  {
   "cell_type": "code",
   "execution_count": 28,
   "id": "d284adeb",
   "metadata": {},
   "outputs": [
    {
     "name": "stdout",
     "output_type": "stream",
     "text": [
      "root\n",
      " |-- \"age;\"\"job\"\";\"\"marital\"\";\"\"education\"\";\"\"default\"\";\"\"balance\"\";\"\"housing\"\";\"\"loan\"\";\"\"contact\"\";\"\"day\"\";\"\"month\"\";\"\"duration\"\";\"\"campaign\"\";\"\"pdays\"\";\"\"previous\"\";\"\"poutcome\"\";\"\"y\"\"\": string (nullable = true)\n",
      "\n",
      "+--------------------------------------------------------------------------------------------------------------------------------------------------------------------------------------+\n",
      "|\"age;\"\"job\"\";\"\"marital\"\";\"\"education\"\";\"\"default\"\";\"\"balance\"\";\"\"housing\"\";\"\"loan\"\";\"\"contact\"\";\"\"day\"\";\"\"month\"\";\"\"duration\"\";\"\"campaign\"\";\"\"pdays\"\";\"\"previous\"\";\"\"poutcome\"\";\"\"y\"\"\"|\n",
      "+--------------------------------------------------------------------------------------------------------------------------------------------------------------------------------------+\n",
      "|                                                                                                                                                                  \"58;\"\"management\"...|\n",
      "|                                                                                                                                                                  \"44;\"\"technician\"...|\n",
      "|                                                                                                                                                                  \"33;\"\"entrepreneu...|\n",
      "|                                                                                                                                                                  \"47;\"\"blue-collar...|\n",
      "|                                                                                                                                                                  \"33;\"\"unknown\"\";\"...|\n",
      "|                                                                                                                                                                  \"35;\"\"management\"...|\n",
      "|                                                                                                                                                                  \"28;\"\"management\"...|\n",
      "|                                                                                                                                                                  \"42;\"\"entrepreneu...|\n",
      "|                                                                                                                                                                  \"58;\"\"retired\"\";\"...|\n",
      "|                                                                                                                                                                  \"43;\"\"technician\"...|\n",
      "|                                                                                                                                                                  \"41;\"\"admin.\"\";\"\"...|\n",
      "|                                                                                                                                                                  \"29;\"\"admin.\"\";\"\"...|\n",
      "|                                                                                                                                                                  \"53;\"\"technician\"...|\n",
      "|                                                                                                                                                                  \"58;\"\"technician\"...|\n",
      "|                                                                                                                                                                  \"57;\"\"services\"\";...|\n",
      "|                                                                                                                                                                  \"51;\"\"retired\"\";\"...|\n",
      "|                                                                                                                                                                  \"45;\"\"admin.\"\";\"\"...|\n",
      "|                                                                                                                                                                  \"57;\"\"blue-collar...|\n",
      "|                                                                                                                                                                  \"60;\"\"retired\"\";\"...|\n",
      "|                                                                                                                                                                  \"33;\"\"services\"\";...|\n",
      "+--------------------------------------------------------------------------------------------------------------------------------------------------------------------------------------+\n",
      "only showing top 20 rows\n",
      "\n"
     ]
    }
   ],
   "source": [
    "df_capstone.createOrReplaceTempView(\"sample\")\n",
    "df2 = spark.sql(\"SELECT * from sample \")\n",
    "df2.printSchema()\n",
    "df2.show()"
   ]
  },
  {
   "cell_type": "code",
   "execution_count": null,
   "id": "9e61c617",
   "metadata": {},
   "outputs": [],
   "source": []
  },
  {
   "cell_type": "code",
   "execution_count": null,
   "id": "b2c30101",
   "metadata": {},
   "outputs": [],
   "source": []
  },
  {
   "cell_type": "code",
   "execution_count": null,
   "id": "dea0a70d",
   "metadata": {},
   "outputs": [],
   "source": []
  }
 ],
 "metadata": {
  "kernelspec": {
   "display_name": "Python 3 (ipykernel)",
   "language": "python",
   "name": "python3"
  },
  "language_info": {
   "codemirror_mode": {
    "name": "ipython",
    "version": 3
   },
   "file_extension": ".py",
   "mimetype": "text/x-python",
   "name": "python",
   "nbconvert_exporter": "python",
   "pygments_lexer": "ipython3",
   "version": "3.10.0"
  }
 },
 "nbformat": 4,
 "nbformat_minor": 5
}
